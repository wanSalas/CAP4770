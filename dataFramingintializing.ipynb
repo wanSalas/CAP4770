{
  "nbformat": 4,
  "nbformat_minor": 0,
  "metadata": {
    "colab": {
      "provenance": []
    },
    "kernelspec": {
      "name": "python3",
      "display_name": "Python 3"
    },
    "language_info": {
      "name": "python"
    }
  },
  "cells": [
    {
      "cell_type": "code",
      "execution_count": null,
      "metadata": {
        "colab": {
          "base_uri": "https://localhost:8080/"
        },
        "id": "_Sd50auSQbkp",
        "outputId": "2f2bafff-3c76-4fa0-9ed6-32cdb7fbcbc4"
      },
      "outputs": [
        {
          "output_type": "stream",
          "name": "stdout",
          "text": [
            "   internet Usage\n",
            "count    51.000000\n",
            "mean     73.747059\n",
            "std       6.304422\n",
            "min      56.600000\n",
            "25%      69.500000\n",
            "50%      75.000000\n",
            "75%      77.600000\n",
            "max      84.700000\n"
          ]
        }
      ],
      "source": [
        "# the library to use the commands for the project\n",
        "import pandas as pd\n",
        "df = pd.read_csv('internetusage.csv')\n",
        "#reader of the columns intended to read\n",
        "internet = df['internet_usage']\n",
        "test = internet.describe()\n",
        "# the function .describe() generate descriptive statistics of a DataFrame\n",
        "print('   internet Usage')\n",
        "print(test.to_string())"
      ]
    }
  ]
}